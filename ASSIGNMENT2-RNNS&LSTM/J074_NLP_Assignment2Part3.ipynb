{
  "nbformat": 4,
  "nbformat_minor": 0,
  "metadata": {
    "colab": {
      "provenance": []
    },
    "kernelspec": {
      "name": "python3",
      "display_name": "Python 3"
    },
    "language_info": {
      "name": "python"
    }
  },
  "cells": [
    {
      "cell_type": "code",
      "execution_count": null,
      "metadata": {
        "colab": {
          "base_uri": "https://localhost:8080/"
        },
        "id": "p0p1KtXKHqog",
        "outputId": "49510732-f3ac-4303-d4e2-42391af5c0db"
      },
      "outputs": [
        {
          "output_type": "stream",
          "name": "stdout",
          "text": [
            "✅ Accuracy: 100.00% (26/26)\n",
            "\n",
            "All outputs matched expected results!\n"
          ]
        }
      ],
      "source": [
        "import spacy\n",
        "import pandas as pd\n",
        "\n",
        "# Load SpaCy model\n",
        "nlp = spacy.load(\"en_core_web_sm\")\n",
        "\n",
        "# Define gender swap logic\n",
        "def swap_gender(sentence, target_gender='female'):\n",
        "    doc = nlp(sentence)\n",
        "    new_tokens = []\n",
        "\n",
        "    if target_gender == 'female':\n",
        "        swap_dict = {\n",
        "            \"he\": \"she\", \"him\": \"her\", \"his\": \"her\", \"himself\": \"herself\"\n",
        "        }\n",
        "    else:\n",
        "        swap_dict = {\n",
        "            \"she\": \"he\", \"her\": \"him\", \"hers\": \"his\", \"herself\": \"himself\"\n",
        "        }\n",
        "\n",
        "    for token in doc:\n",
        "        word = token.text\n",
        "        lower_token = word.lower()\n",
        "\n",
        "        if lower_token == \"her\":\n",
        "            if token.dep_ in ('dobj', 'pobj'):\n",
        "                replacement = 'him' if target_gender == 'male' else 'her'\n",
        "            elif token.dep_ in ('poss',):\n",
        "                replacement = 'his' if target_gender == 'male' else 'her'\n",
        "            else:\n",
        "                replacement = swap_dict.get(lower_token, word)\n",
        "        elif lower_token == \"his\":\n",
        "            if token.dep_ == 'poss':\n",
        "                replacement = 'her' if target_gender == 'female' else 'his'\n",
        "            else:\n",
        "                replacement = swap_dict.get(lower_token, word)\n",
        "        elif lower_token in swap_dict:\n",
        "            replacement = swap_dict[lower_token]\n",
        "        else:\n",
        "            replacement = word\n",
        "\n",
        "        if word[0].isupper():\n",
        "            replacement = replacement.capitalize()\n",
        "\n",
        "        new_tokens.append(replacement)\n",
        "\n",
        "    return ''.join([t + doc[i].whitespace_ for i, t in enumerate(new_tokens)])\n",
        "\n",
        "\n",
        "# === Load CSV ===\n",
        "df = pd.read_csv(\"/content/pronoun_testcases.csv\")  # Replace with your file path\n",
        "\n",
        "# === Apply Function and Compare ===\n",
        "results = []\n",
        "mismatches = []\n",
        "\n",
        "for idx, row in df.iterrows():\n",
        "    input_text = row['input_text']\n",
        "    target_gender = row['target_gender'].lower()\n",
        "    expected = row['expected_output']\n",
        "\n",
        "    predicted = swap_gender(input_text, target_gender)\n",
        "\n",
        "    correct = predicted.strip() == expected.strip()\n",
        "    results.append(correct)\n",
        "\n",
        "    if not correct:\n",
        "        mismatches.append({\n",
        "            \"Input\": input_text,\n",
        "            \"Target\": target_gender,\n",
        "            \"Predicted\": predicted,\n",
        "            \"Expected\": expected\n",
        "        })\n",
        "\n",
        "# === Report Accuracy ===\n",
        "accuracy = sum(results) / len(results) * 100\n",
        "print(f\"✅ Accuracy: {accuracy:.2f}% ({sum(results)}/{len(results)})\\n\")\n",
        "\n",
        "# === Show Mismatches ===\n",
        "if mismatches:\n",
        "    print(\"❌ Mismatches:\")\n",
        "    for m in mismatches:\n",
        "        print(f\"Input: {m['Input']}\")\n",
        "        print(f\"Predicted: {m['Predicted']}\")\n",
        "        print(f\"Expected : {m['Expected']}\")\n",
        "        print(\"---\")\n",
        "else:\n",
        "    print(\"All outputs matched expected results!\")\n"
      ]
    },
    {
      "cell_type": "code",
      "source": [
        "PART3\n"
      ],
      "metadata": {
        "id": "dUgv41o-bnMm"
      },
      "execution_count": null,
      "outputs": []
    }
  ]
}