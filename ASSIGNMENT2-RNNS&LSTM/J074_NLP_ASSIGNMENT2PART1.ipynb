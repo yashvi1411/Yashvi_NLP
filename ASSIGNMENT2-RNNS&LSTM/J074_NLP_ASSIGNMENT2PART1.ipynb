{
  "metadata": {
    "kernelspec": {
      "language": "python",
      "display_name": "Python 3",
      "name": "python3"
    },
    "language_info": {
      "name": "python",
      "version": "3.11.13",
      "mimetype": "text/x-python",
      "codemirror_mode": {
        "name": "ipython",
        "version": 3
      },
      "pygments_lexer": "ipython3",
      "nbconvert_exporter": "python",
      "file_extension": ".py"
    },
    "kaggle": {
      "accelerator": "gpu",
      "dataSources": [
        {
          "sourceId": 320111,
          "sourceType": "datasetVersion",
          "datasetId": 134715
        },
        {
          "sourceId": 1246668,
          "sourceType": "datasetVersion",
          "datasetId": 715814
        }
      ],
      "dockerImageVersionId": 31090,
      "isInternetEnabled": true,
      "language": "python",
      "sourceType": "notebook",
      "isGpuEnabled": true
    },
    "colab": {
      "provenance": []
    }
  },
  "nbformat_minor": 0,
  "nbformat": 4,
  "cells": [
    {
      "cell_type": "code",
      "source": [
        "# This Python 3 environment comes with many helpful analytics libraries installed\n",
        "# It is defined by the kaggle/python Docker image: https://github.com/kaggle/docker-python\n",
        "# For example, here's several helpful packages to load\n",
        "\n",
        "import numpy as np # linear algebra\n",
        "import pandas as pd # data processing, CSV file I/O (e.g. pd.read_csv)\n",
        "\n",
        "# Input data files are available in the read-only \"../input/\" directory\n",
        "# For example, running this (by clicking run or pressing Shift+Enter) will list all files under the input directory\n",
        "\n",
        "import os\n",
        "for dirname, _, filenames in os.walk('/kaggle/input'):\n",
        "    for filename in filenames:\n",
        "        print(os.path.join(dirname, filename))\n",
        "\n",
        "# You can write up to 20GB to the current directory (/kaggle/working/) that gets preserved as output when you create a version using \"Save & Run All\"\n",
        "# You can also write temporary files to /kaggle/temp/, but they won't be saved outside of the current session"
      ],
      "metadata": {
        "_uuid": "8f2839f25d086af736a60e9eeb907d3b93b6e0e5",
        "_cell_guid": "b1076dfc-b9ad-4769-8c92-a6c4dae69d19",
        "trusted": true,
        "id": "XUwS3J5LrbRI"
      },
      "outputs": [],
      "execution_count": null
    },
    {
      "cell_type": "markdown",
      "source": [
        "PART1\n"
      ],
      "metadata": {
        "id": "arOdDU0HbLyg"
      }
    },
    {
      "cell_type": "code",
      "source": [
        "!pip install -q tqdm\n",
        "import os, re, io\n",
        "import numpy as np\n",
        "import pandas as pd\n",
        "from collections import Counter\n",
        "from sklearn.model_selection import train_test_split\n",
        "from sklearn.metrics import f1_score, accuracy_score\n",
        "import torch\n",
        "import torch.nn as nn\n",
        "from torch.utils.data import Dataset, DataLoader\n",
        "from tqdm.auto import tqdm\n",
        "import torch.optim as optim\n",
        "\n"
      ],
      "metadata": {
        "trusted": true,
        "execution": {
          "iopub.status.busy": "2025-09-06T14:04:54.856288Z",
          "iopub.execute_input": "2025-09-06T14:04:54.856837Z",
          "iopub.status.idle": "2025-09-06T14:04:57.880157Z",
          "shell.execute_reply.started": "2025-09-06T14:04:54.856811Z",
          "shell.execute_reply": "2025-09-06T14:04:57.879310Z"
        },
        "id": "-VsKL9NqrbRN"
      },
      "outputs": [],
      "execution_count": null
    },
    {
      "cell_type": "code",
      "source": [
        "df = pd.read_csv(\"/kaggle/input/imdb-dataset-of-50k-movie-reviews/IMDB Dataset.csv\")\n",
        "df['label'] = (df['sentiment'] == 'positive').astype(int)\n",
        "df = df[['review', 'label']]\n",
        "\n",
        "def clean_text(text):\n",
        "    text = text.lower()\n",
        "    text = re.sub(r\"<br\\s*/?>\", \" \", text)\n",
        "    text = re.sub(r\"[^a-z0-9\\s']\", \" \", text)\n",
        "    text = re.sub(r\"\\s+\", \" \", text).strip()\n",
        "    return text\n",
        "\n",
        "df['text'] = df['review'].apply(clean_text)\n",
        "\n",
        "def tokenize(s):\n",
        "    return s.split()\n",
        "\n",
        "MAX_VOCAB = 20000\n",
        "counter = Counter()\n",
        "for t in df['text']:\n",
        "    counter.update(tokenize(t))\n",
        "most_common = counter.most_common(MAX_VOCAB-2)\n",
        "itos = ['<PAD>', '<OOV>'] + [w for w,_ in most_common]\n",
        "stoi = {w:i for i,w in enumerate(itos)}\n",
        "vocab_size = len(itos)\n",
        "print(\"Vocab size:\", vocab_size)\n"
      ],
      "metadata": {
        "trusted": true,
        "execution": {
          "iopub.status.busy": "2025-09-06T14:15:42.222232Z",
          "iopub.execute_input": "2025-09-06T14:15:42.222888Z",
          "iopub.status.idle": "2025-09-06T14:15:49.390162Z",
          "shell.execute_reply.started": "2025-09-06T14:15:42.222862Z",
          "shell.execute_reply": "2025-09-06T14:15:49.389423Z"
        },
        "id": "ZPB7J8pwrbRO",
        "outputId": "726ac109-d21c-4bd4-e362-ff73e215eb5b"
      },
      "outputs": [
        {
          "name": "stdout",
          "text": "Vocab size: 20000\n",
          "output_type": "stream"
        }
      ],
      "execution_count": null
    },
    {
      "cell_type": "code",
      "source": [
        "MAX_LEN = 200\n",
        "\n",
        "def text_to_sequence(text, stoi, max_len=MAX_LEN):\n",
        "    toks = tokenize(text)\n",
        "    seq = [stoi.get(t, 1) for t in toks]\n",
        "    if len(seq) >= max_len:\n",
        "        return seq[:max_len]\n",
        "    else:\n",
        "        return seq + [0]*(max_len - len(seq))\n",
        "\n",
        "df['seq'] = df['text'].apply(lambda x: text_to_sequence(x, stoi, MAX_LEN))\n",
        "\n",
        "train_val, test = train_test_split(df, test_size=0.1, stratify=df['label'], random_state=42)\n",
        "train, valid = train_test_split(train_val, test_size=0.111111, stratify=train_val['label'], random_state=42)\n",
        "\n",
        "print(len(train), len(valid), len(test))\n"
      ],
      "metadata": {
        "trusted": true,
        "execution": {
          "iopub.status.busy": "2025-09-06T14:15:49.391418Z",
          "iopub.execute_input": "2025-09-06T14:15:49.391670Z",
          "iopub.status.idle": "2025-09-06T14:15:51.289443Z",
          "shell.execute_reply.started": "2025-09-06T14:15:49.391651Z",
          "shell.execute_reply": "2025-09-06T14:15:51.288539Z"
        },
        "id": "eh32pUxPrbRQ",
        "outputId": "45c42963-3991-4e85-abe3-7aac7b4315f1"
      },
      "outputs": [
        {
          "name": "stdout",
          "text": "40000 5000 5000\n",
          "output_type": "stream"
        }
      ],
      "execution_count": null
    },
    {
      "cell_type": "code",
      "source": [
        "GLOVE_PATH = \"/kaggle/input/glove6b100dtxt/glove.6B.100d.txt\"  # download from: https... (put in working dir)\n",
        "EMB_DIM = 100\n",
        "\n",
        "emb_index = {}\n",
        "with open(GLOVE_PATH, 'r', encoding='utf8') as f:\n",
        "    for line in f:\n",
        "        parts = line.rstrip().split(' ')\n",
        "        word = parts[0]\n",
        "        vec = np.asarray(parts[1:], dtype='float32')\n",
        "        if vec.shape[0] == EMB_DIM:\n",
        "            emb_index[word] = vec\n",
        "\n",
        "embedding_matrix = np.random.normal(scale=0.6, size=(vocab_size, EMB_DIM)).astype(np.float32)\n",
        "embedding_matrix[0] = np.zeros(EMB_DIM, dtype=np.float32)\n",
        "\n",
        "found = 0\n",
        "for i, token in enumerate(itos):\n",
        "    if token in emb_index:\n",
        "        embedding_matrix[i] = emb_index[token]\n",
        "        found += 1\n",
        "print(f\"Found {found}/{vocab_size} tokens in GloVe\")\n"
      ],
      "metadata": {
        "trusted": true,
        "execution": {
          "iopub.status.busy": "2025-09-06T14:15:51.290509Z",
          "iopub.execute_input": "2025-09-06T14:15:51.290792Z",
          "iopub.status.idle": "2025-09-06T14:15:59.302364Z",
          "shell.execute_reply.started": "2025-09-06T14:15:51.290767Z",
          "shell.execute_reply": "2025-09-06T14:15:59.301715Z"
        },
        "id": "-I2HwuNkrbRS",
        "outputId": "f610bb49-95e0-4910-dc57-26b1429715ff"
      },
      "outputs": [
        {
          "name": "stdout",
          "text": "Found 19248/20000 tokens in GloVe\n",
          "output_type": "stream"
        }
      ],
      "execution_count": null
    },
    {
      "cell_type": "code",
      "source": [
        "class IMDBDataset(Dataset):\n",
        "    def __init__(self, df):\n",
        "        self.seqs = df['seq'].tolist()\n",
        "        self.labels = df['label'].astype(np.int64).tolist()\n",
        "    def __len__(self):\n",
        "        return len(self.seqs)\n",
        "    def __getitem__(self, idx):\n",
        "        return torch.tensor(self.seqs[idx], dtype=torch.long), torch.tensor(self.labels[idx], dtype=torch.float)\n",
        "\n",
        "BATCH_SIZE = 64\n",
        "train_loader = DataLoader(IMDBDataset(train), batch_size=BATCH_SIZE, shuffle=True)\n",
        "valid_loader = DataLoader(IMDBDataset(valid), batch_size=BATCH_SIZE, shuffle=False)\n",
        "test_loader  = DataLoader(IMDBDataset(test), batch_size=BATCH_SIZE, shuffle=False)\n"
      ],
      "metadata": {
        "trusted": true,
        "execution": {
          "iopub.status.busy": "2025-09-06T14:15:59.303676Z",
          "iopub.execute_input": "2025-09-06T14:15:59.303889Z",
          "iopub.status.idle": "2025-09-06T14:15:59.326871Z",
          "shell.execute_reply.started": "2025-09-06T14:15:59.303871Z",
          "shell.execute_reply": "2025-09-06T14:15:59.326206Z"
        },
        "id": "7mk063gHrbRU"
      },
      "outputs": [],
      "execution_count": null
    },
    {
      "cell_type": "code",
      "source": [
        "class VanillaRNN(nn.Module):\n",
        "    def __init__(self, embedding_matrix, emb_dim=EMB_DIM, hidden_size=128, num_layers=1, bidirectional=False, freeze_emb=True):\n",
        "        super().__init__()\n",
        "        vocab_size = embedding_matrix.shape[0]\n",
        "        self.embedding = nn.Embedding(vocab_size, emb_dim, padding_idx=0)\n",
        "        self.embedding.weight = nn.Parameter(torch.tensor(embedding_matrix))\n",
        "        if freeze_emb:\n",
        "            self.embedding.weight.requires_grad = False\n",
        "        self.rnn = nn.RNN(input_size=emb_dim, hidden_size=hidden_size, num_layers=num_layers, batch_first=True, bidirectional=bidirectional)\n",
        "        mult = 2 if bidirectional else 1\n",
        "        self.fc = nn.Linear(hidden_size*mult, 1)\n",
        "    def forward(self, x):\n",
        "        emb = self.embedding(x)\n",
        "        out, h_n = self.rnn(emb)\n",
        "        if self.rnn.bidirectional:\n",
        "            hidden = torch.cat([h_n[-2], h_n[-1]], dim=1)\n",
        "        else:\n",
        "            hidden = h_n[-1]\n",
        "        logits = self.fc(hidden).squeeze(1)\n",
        "        return logits\n",
        "\n",
        "device = \"cuda\" if torch.cuda.is_available() else \"cpu\"\n",
        "model = VanillaRNN(embedding_matrix, hidden_size=128, bidirectional=True, freeze_emb=True).to(device)\n",
        "print(model)\n"
      ],
      "metadata": {
        "trusted": true,
        "execution": {
          "iopub.status.busy": "2025-09-06T14:15:59.328166Z",
          "iopub.execute_input": "2025-09-06T14:15:59.328387Z",
          "iopub.status.idle": "2025-09-06T14:15:59.361776Z",
          "shell.execute_reply.started": "2025-09-06T14:15:59.328362Z",
          "shell.execute_reply": "2025-09-06T14:15:59.361067Z"
        },
        "id": "sxWlO3dtrbRX",
        "outputId": "f64f5b63-bb3c-43fc-b6e4-f4f0ca2fb492"
      },
      "outputs": [
        {
          "name": "stdout",
          "text": "VanillaRNN(\n  (embedding): Embedding(20000, 100, padding_idx=0)\n  (rnn): RNN(100, 128, batch_first=True, bidirectional=True)\n  (fc): Linear(in_features=256, out_features=1, bias=True)\n)\n",
          "output_type": "stream"
        }
      ],
      "execution_count": null
    },
    {
      "cell_type": "code",
      "source": [
        "criterion = nn.BCEWithLogitsLoss()\n",
        "optimizer = optim.Adam(filter(lambda p: p.requires_grad, model.parameters()), lr=1e-3)\n",
        "EPOCHS = 5\n",
        "\n",
        "def run_epoch(loader, train=True):\n",
        "    if train:\n",
        "        model.train()\n",
        "    else:\n",
        "        model.eval()\n",
        "    losses, preds_all, trues_all = [], [], []\n",
        "    with torch.set_grad_enabled(train):\n",
        "        for x, y in tqdm(loader, leave=False):\n",
        "            x, y = x.to(device), y.to(device)\n",
        "            logits = model(x)\n",
        "            loss = criterion(logits, y)\n",
        "            if train:\n",
        "                optimizer.zero_grad()\n",
        "                loss.backward()\n",
        "                optimizer.step()\n",
        "            losses.append(loss.item())\n",
        "            probs = torch.sigmoid(logits).detach().cpu().numpy()\n",
        "            preds_all += (probs >= 0.5).astype(int).tolist()\n",
        "            trues_all += y.cpu().numpy().astype(int).tolist()\n",
        "    avg_loss = np.mean(losses)\n",
        "    f1 = f1_score(trues_all, preds_all)\n",
        "    acc = accuracy_score(trues_all, preds_all)\n",
        "    return avg_loss, f1, acc\n",
        "\n",
        "for epoch in range(1, EPOCHS+1):\n",
        "    train_loss, train_f1, train_acc = run_epoch(train_loader, train=True)\n",
        "    val_loss, val_f1, val_acc = run_epoch(valid_loader, train=False)\n",
        "    print(f\"Epoch {epoch}: Train loss {train_loss:.4f} f1 {train_f1:.4f} | Val loss {val_loss:.4f} f1 {val_f1:.4f}\")\n"
      ],
      "metadata": {
        "trusted": true,
        "execution": {
          "iopub.status.busy": "2025-09-06T14:15:59.362456Z",
          "iopub.execute_input": "2025-09-06T14:15:59.362641Z",
          "iopub.status.idle": "2025-09-06T14:16:15.703688Z",
          "shell.execute_reply.started": "2025-09-06T14:15:59.362626Z",
          "shell.execute_reply": "2025-09-06T14:16:15.702928Z"
        },
        "colab": {
          "referenced_widgets": [
            ""
          ]
        },
        "id": "nMNJL-lKrbRZ",
        "outputId": "b15576c5-a984-4795-e609-d38d2999094f"
      },
      "outputs": [
        {
          "output_type": "display_data",
          "data": {
            "text/plain": "  0%|          | 0/625 [00:00<?, ?it/s]",
            "application/vnd.jupyter.widget-view+json": {
              "version_major": 2,
              "version_minor": 0,
              "model_id": ""
            }
          },
          "metadata": {}
        },
        {
          "output_type": "display_data",
          "data": {
            "text/plain": "  0%|          | 0/79 [00:00<?, ?it/s]",
            "application/vnd.jupyter.widget-view+json": {
              "version_major": 2,
              "version_minor": 0,
              "model_id": ""
            }
          },
          "metadata": {}
        },
        {
          "name": "stdout",
          "text": "Epoch 1: Train loss 0.6815 f1 0.5642 | Val loss 0.7092 f1 0.6679\n",
          "output_type": "stream"
        },
        {
          "output_type": "display_data",
          "data": {
            "text/plain": "  0%|          | 0/625 [00:00<?, ?it/s]",
            "application/vnd.jupyter.widget-view+json": {
              "version_major": 2,
              "version_minor": 0,
              "model_id": ""
            }
          },
          "metadata": {}
        },
        {
          "output_type": "display_data",
          "data": {
            "text/plain": "  0%|          | 0/79 [00:00<?, ?it/s]",
            "application/vnd.jupyter.widget-view+json": {
              "version_major": 2,
              "version_minor": 0,
              "model_id": ""
            }
          },
          "metadata": {}
        },
        {
          "name": "stdout",
          "text": "Epoch 2: Train loss 0.6652 f1 0.5907 | Val loss 0.6890 f1 0.6087\n",
          "output_type": "stream"
        },
        {
          "output_type": "display_data",
          "data": {
            "text/plain": "  0%|          | 0/625 [00:00<?, ?it/s]",
            "application/vnd.jupyter.widget-view+json": {
              "version_major": 2,
              "version_minor": 0,
              "model_id": ""
            }
          },
          "metadata": {}
        },
        {
          "output_type": "display_data",
          "data": {
            "text/plain": "  0%|          | 0/79 [00:00<?, ?it/s]",
            "application/vnd.jupyter.widget-view+json": {
              "version_major": 2,
              "version_minor": 0,
              "model_id": ""
            }
          },
          "metadata": {}
        },
        {
          "name": "stdout",
          "text": "Epoch 3: Train loss 0.6837 f1 0.5605 | Val loss 0.6707 f1 0.4608\n",
          "output_type": "stream"
        },
        {
          "output_type": "display_data",
          "data": {
            "text/plain": "  0%|          | 0/625 [00:00<?, ?it/s]",
            "application/vnd.jupyter.widget-view+json": {
              "version_major": 2,
              "version_minor": 0,
              "model_id": ""
            }
          },
          "metadata": {}
        },
        {
          "output_type": "display_data",
          "data": {
            "text/plain": "  0%|          | 0/79 [00:00<?, ?it/s]",
            "application/vnd.jupyter.widget-view+json": {
              "version_major": 2,
              "version_minor": 0,
              "model_id": ""
            }
          },
          "metadata": {}
        },
        {
          "name": "stdout",
          "text": "Epoch 4: Train loss 0.6788 f1 0.5703 | Val loss 0.6561 f1 0.6154\n",
          "output_type": "stream"
        },
        {
          "output_type": "display_data",
          "data": {
            "text/plain": "  0%|          | 0/625 [00:00<?, ?it/s]",
            "application/vnd.jupyter.widget-view+json": {
              "version_major": 2,
              "version_minor": 0,
              "model_id": ""
            }
          },
          "metadata": {}
        },
        {
          "output_type": "display_data",
          "data": {
            "text/plain": "  0%|          | 0/79 [00:00<?, ?it/s]",
            "application/vnd.jupyter.widget-view+json": {
              "version_major": 2,
              "version_minor": 0,
              "model_id": ""
            }
          },
          "metadata": {}
        },
        {
          "name": "stdout",
          "text": "Epoch 5: Train loss 0.6715 f1 0.5882 | Val loss 0.6727 f1 0.6725\n",
          "output_type": "stream"
        }
      ],
      "execution_count": null
    },
    {
      "cell_type": "code",
      "source": [
        "test_loss, test_f1, test_acc = run_epoch(test_loader, train=False)\n",
        "print(f\"Test F1: {test_f1:.4f} | Test Acc: {test_acc:.4f}\")\n"
      ],
      "metadata": {
        "trusted": true,
        "execution": {
          "iopub.status.busy": "2025-09-06T14:16:15.704518Z",
          "iopub.execute_input": "2025-09-06T14:16:15.704804Z",
          "iopub.status.idle": "2025-09-06T14:16:15.992056Z",
          "shell.execute_reply.started": "2025-09-06T14:16:15.704779Z",
          "shell.execute_reply": "2025-09-06T14:16:15.991482Z"
        },
        "colab": {
          "referenced_widgets": [
            ""
          ]
        },
        "id": "pITN9lkOrbRa",
        "outputId": "2adfa254-2e59-4b4a-b7e7-47a2882059f3"
      },
      "outputs": [
        {
          "output_type": "display_data",
          "data": {
            "text/plain": "  0%|          | 0/79 [00:00<?, ?it/s]",
            "application/vnd.jupyter.widget-view+json": {
              "version_major": 2,
              "version_minor": 0,
              "model_id": ""
            }
          },
          "metadata": {}
        },
        {
          "name": "stdout",
          "text": "Test F1: 0.6707 | Test Acc: 0.5890\n",
          "output_type": "stream"
        }
      ],
      "execution_count": null
    },
    {
      "cell_type": "code",
      "source": [
        "class LSTMClassifier(VanillaRNN):\n",
        "    def __init__(self, *args, **kwargs):\n",
        "        super().__init__(*args, **kwargs)\n",
        "        # override rnn with LSTM\n",
        "        self.rnn = nn.LSTM(\n",
        "            input_size=self.embedding.embedding_dim,\n",
        "            hidden_size=128,\n",
        "            num_layers=1,\n",
        "            batch_first=True,\n",
        "            bidirectional=True\n",
        "        )\n",
        "        self.fc = nn.Linear(128 * 2, 1)  # 256 → 1\n",
        "\n",
        "    def forward(self, x):\n",
        "        embedded = self.embedding(x)\n",
        "        output, (h_n, c_n) = self.rnn(embedded)\n",
        "\n",
        "        if self.rnn.bidirectional:\n",
        "            hidden = torch.cat((h_n[-2], h_n[-1]), dim=1)\n",
        "        else:\n",
        "            hidden = h_n[-1]\n",
        "\n",
        "        logits = self.fc(hidden).squeeze(1)\n",
        "        return logits\n",
        "\n",
        "\n",
        "\n",
        "criterion = nn.BCEWithLogitsLoss()\n",
        "optimizer = optim.Adam(filter(lambda p: p.requires_grad, model.parameters()), lr=1e-3)\n",
        "EPOCHS = 5\n",
        "\n",
        "def run_epoch(loader, train=True):\n",
        "    if train:\n",
        "        model.train()\n",
        "    else:\n",
        "        model.eval()\n",
        "    losses, preds_all, trues_all = [], [], []\n",
        "    with torch.set_grad_enabled(train):\n",
        "        for x, y in tqdm(loader, leave=False):\n",
        "            x, y = x.to(device), y.to(device)\n",
        "            logits = model(x)\n",
        "            loss = criterion(logits, y)\n",
        "            if train:\n",
        "                optimizer.zero_grad()\n",
        "                loss.backward()\n",
        "                optimizer.step()\n",
        "            losses.append(loss.item())\n",
        "            probs = torch.sigmoid(logits).detach().cpu().numpy()\n",
        "            preds_all += (probs >= 0.5).astype(int).tolist()\n",
        "            trues_all += y.cpu().numpy().astype(int).tolist()\n",
        "    avg_loss = np.mean(losses)\n",
        "    f1 = f1_score(trues_all, preds_all)\n",
        "    acc = accuracy_score(trues_all, preds_all)\n",
        "    return avg_loss, f1, acc\n",
        "\n",
        "for epoch in range(1, EPOCHS+1):\n",
        "    train_loss, train_f1, train_acc = run_epoch(train_loader, train=True)\n",
        "    val_loss, val_f1, val_acc = run_epoch(valid_loader, train=False)\n",
        "    print(f\"Epoch {epoch}: Train loss {train_loss:.4f} f1 {train_f1:.4f} | Val loss {val_loss:.4f} f1 {val_f1:.4f}\")\n",
        "\n"
      ],
      "metadata": {
        "trusted": true,
        "execution": {
          "iopub.status.busy": "2025-09-06T14:17:30.664849Z",
          "iopub.execute_input": "2025-09-06T14:17:30.665141Z",
          "iopub.status.idle": "2025-09-06T14:18:21.910200Z",
          "shell.execute_reply.started": "2025-09-06T14:17:30.665118Z",
          "shell.execute_reply": "2025-09-06T14:18:21.909582Z"
        },
        "colab": {
          "referenced_widgets": [
            ""
          ]
        },
        "id": "DcAaNHhvrbRc",
        "outputId": "7e18bf4c-3f5b-464d-8178-9c2c931ed645"
      },
      "outputs": [
        {
          "output_type": "display_data",
          "data": {
            "text/plain": "  0%|          | 0/625 [00:00<?, ?it/s]",
            "application/vnd.jupyter.widget-view+json": {
              "version_major": 2,
              "version_minor": 0,
              "model_id": ""
            }
          },
          "metadata": {}
        },
        {
          "output_type": "display_data",
          "data": {
            "text/plain": "  0%|          | 0/79 [00:00<?, ?it/s]",
            "application/vnd.jupyter.widget-view+json": {
              "version_major": 2,
              "version_minor": 0,
              "model_id": ""
            }
          },
          "metadata": {}
        },
        {
          "name": "stdout",
          "text": "Epoch 1: Train loss 0.6802 f1 0.5516 | Val loss 0.6375 f1 0.6910\n",
          "output_type": "stream"
        },
        {
          "output_type": "display_data",
          "data": {
            "text/plain": "  0%|          | 0/625 [00:00<?, ?it/s]",
            "application/vnd.jupyter.widget-view+json": {
              "version_major": 2,
              "version_minor": 0,
              "model_id": ""
            }
          },
          "metadata": {}
        },
        {
          "output_type": "display_data",
          "data": {
            "text/plain": "  0%|          | 0/79 [00:00<?, ?it/s]",
            "application/vnd.jupyter.widget-view+json": {
              "version_major": 2,
              "version_minor": 0,
              "model_id": ""
            }
          },
          "metadata": {}
        },
        {
          "name": "stdout",
          "text": "Epoch 2: Train loss 0.4667 f1 0.7865 | Val loss 0.4049 f1 0.8370\n",
          "output_type": "stream"
        },
        {
          "output_type": "display_data",
          "data": {
            "text/plain": "  0%|          | 0/625 [00:00<?, ?it/s]",
            "application/vnd.jupyter.widget-view+json": {
              "version_major": 2,
              "version_minor": 0,
              "model_id": ""
            }
          },
          "metadata": {}
        },
        {
          "output_type": "display_data",
          "data": {
            "text/plain": "  0%|          | 0/79 [00:00<?, ?it/s]",
            "application/vnd.jupyter.widget-view+json": {
              "version_major": 2,
              "version_minor": 0,
              "model_id": ""
            }
          },
          "metadata": {}
        },
        {
          "name": "stdout",
          "text": "Epoch 3: Train loss 0.3860 f1 0.8296 | Val loss 0.3810 f1 0.8303\n",
          "output_type": "stream"
        },
        {
          "output_type": "display_data",
          "data": {
            "text/plain": "  0%|          | 0/625 [00:00<?, ?it/s]",
            "application/vnd.jupyter.widget-view+json": {
              "version_major": 2,
              "version_minor": 0,
              "model_id": ""
            }
          },
          "metadata": {}
        },
        {
          "output_type": "display_data",
          "data": {
            "text/plain": "  0%|          | 0/79 [00:00<?, ?it/s]",
            "application/vnd.jupyter.widget-view+json": {
              "version_major": 2,
              "version_minor": 0,
              "model_id": ""
            }
          },
          "metadata": {}
        },
        {
          "name": "stdout",
          "text": "Epoch 4: Train loss 0.3591 f1 0.8436 | Val loss 0.3533 f1 0.8419\n",
          "output_type": "stream"
        },
        {
          "output_type": "display_data",
          "data": {
            "text/plain": "  0%|          | 0/625 [00:00<?, ?it/s]",
            "application/vnd.jupyter.widget-view+json": {
              "version_major": 2,
              "version_minor": 0,
              "model_id": ""
            }
          },
          "metadata": {}
        },
        {
          "output_type": "display_data",
          "data": {
            "text/plain": "  0%|          | 0/79 [00:00<?, ?it/s]",
            "application/vnd.jupyter.widget-view+json": {
              "version_major": 2,
              "version_minor": 0,
              "model_id": ""
            }
          },
          "metadata": {}
        },
        {
          "name": "stdout",
          "text": "Epoch 5: Train loss 0.3429 f1 0.8511 | Val loss 0.3554 f1 0.8332\n",
          "output_type": "stream"
        }
      ],
      "execution_count": null
    },
    {
      "cell_type": "markdown",
      "source": [
        "### 2. Eval"
      ],
      "metadata": {
        "id": "kXmT2Y21rbRd"
      }
    },
    {
      "cell_type": "code",
      "source": [
        "test_loss, test_f1, test_acc = run_epoch(test_loader, train=False)\n",
        "print(f\"Test F1: {test_f1:.4f} | Test Acc: {test_acc:.4f}\")\n",
        "\n"
      ],
      "metadata": {
        "trusted": true,
        "execution": {
          "iopub.status.busy": "2025-09-06T14:18:50.148508Z",
          "iopub.execute_input": "2025-09-06T14:18:50.149183Z",
          "iopub.status.idle": "2025-09-06T14:18:50.761646Z",
          "shell.execute_reply.started": "2025-09-06T14:18:50.149158Z",
          "shell.execute_reply": "2025-09-06T14:18:50.761129Z"
        },
        "colab": {
          "referenced_widgets": [
            ""
          ]
        },
        "id": "eG0C1eAVrbRd",
        "outputId": "2ebc09dd-8210-4b8f-8a8c-40e66c8fe20c"
      },
      "outputs": [
        {
          "output_type": "display_data",
          "data": {
            "text/plain": "  0%|          | 0/79 [00:00<?, ?it/s]",
            "application/vnd.jupyter.widget-view+json": {
              "version_major": 2,
              "version_minor": 0,
              "model_id": ""
            }
          },
          "metadata": {}
        },
        {
          "name": "stdout",
          "text": "Test F1: 0.8422 | Test Acc: 0.8468\n",
          "output_type": "stream"
        }
      ],
      "execution_count": null
    },
    {
      "cell_type": "code",
      "source": [
        "model = VanillaRNN(embedding_matrix, hidden_size=128, bidirectional=True, freeze_emb=False).to(device)\n",
        "print(model)\n",
        "\n",
        "\n",
        "criterion = nn.BCEWithLogitsLoss()\n",
        "optimizer = optim.Adam(filter(lambda p: p.requires_grad, model.parameters()), lr=1e-3)\n",
        "EPOCHS = 5\n",
        "\n",
        "def run_epoch(loader, train=True):\n",
        "    if train:\n",
        "        model.train()\n",
        "    else:\n",
        "        model.eval()\n",
        "    losses, preds_all, trues_all = [], [], []\n",
        "    with torch.set_grad_enabled(train):\n",
        "        for x, y in tqdm(loader, leave=False):\n",
        "            x, y = x.to(device), y.to(device)\n",
        "            logits = model(x)\n",
        "            loss = criterion(logits, y)\n",
        "            if train:\n",
        "                optimizer.zero_grad()\n",
        "                loss.backward()\n",
        "                optimizer.step()\n",
        "            losses.append(loss.item())\n",
        "            probs = torch.sigmoid(logits).detach().cpu().numpy()\n",
        "            preds_all += (probs >= 0.5).astype(int).tolist()\n",
        "            trues_all += y.cpu().numpy().astype(int).tolist()\n",
        "    avg_loss = np.mean(losses)\n",
        "    f1 = f1_score(trues_all, preds_all)\n",
        "    acc = accuracy_score(trues_all, preds_all)\n",
        "    return avg_loss, f1, acc\n",
        "\n",
        "for epoch in range(1, EPOCHS+1):\n",
        "    train_loss, train_f1, train_acc = run_epoch(train_loader, train=True)\n",
        "    val_loss, val_f1, val_acc = run_epoch(valid_loader, train=False)\n",
        "    print(f\"Epoch {epoch}: Train loss {train_loss:.4f} f1 {train_f1:.4f} | Val loss {val_loss:.4f} f1 {val_f1:.4f}\")\n"
      ],
      "metadata": {
        "trusted": true,
        "execution": {
          "iopub.status.busy": "2025-09-06T14:19:54.122467Z",
          "iopub.execute_input": "2025-09-06T14:19:54.123095Z",
          "iopub.status.idle": "2025-09-06T14:20:12.819791Z",
          "shell.execute_reply.started": "2025-09-06T14:19:54.123071Z",
          "shell.execute_reply": "2025-09-06T14:20:12.819235Z"
        },
        "colab": {
          "referenced_widgets": [
            ""
          ]
        },
        "id": "3rkmvnmirbRe",
        "outputId": "3b5012e3-9c45-43ee-9f63-4df82ae2e5db"
      },
      "outputs": [
        {
          "name": "stdout",
          "text": "VanillaRNN(\n  (embedding): Embedding(20000, 100, padding_idx=0)\n  (rnn): RNN(100, 128, batch_first=True, bidirectional=True)\n  (fc): Linear(in_features=256, out_features=1, bias=True)\n)\n",
          "output_type": "stream"
        },
        {
          "output_type": "display_data",
          "data": {
            "text/plain": "  0%|          | 0/625 [00:00<?, ?it/s]",
            "application/vnd.jupyter.widget-view+json": {
              "version_major": 2,
              "version_minor": 0,
              "model_id": ""
            }
          },
          "metadata": {}
        },
        {
          "output_type": "display_data",
          "data": {
            "text/plain": "  0%|          | 0/79 [00:00<?, ?it/s]",
            "application/vnd.jupyter.widget-view+json": {
              "version_major": 2,
              "version_minor": 0,
              "model_id": ""
            }
          },
          "metadata": {}
        },
        {
          "name": "stdout",
          "text": "Epoch 1: Train loss 0.6642 f1 0.6071 | Val loss 0.6523 f1 0.7217\n",
          "output_type": "stream"
        },
        {
          "output_type": "display_data",
          "data": {
            "text/plain": "  0%|          | 0/625 [00:00<?, ?it/s]",
            "application/vnd.jupyter.widget-view+json": {
              "version_major": 2,
              "version_minor": 0,
              "model_id": ""
            }
          },
          "metadata": {}
        },
        {
          "output_type": "display_data",
          "data": {
            "text/plain": "  0%|          | 0/79 [00:00<?, ?it/s]",
            "application/vnd.jupyter.widget-view+json": {
              "version_major": 2,
              "version_minor": 0,
              "model_id": ""
            }
          },
          "metadata": {}
        },
        {
          "name": "stdout",
          "text": "Epoch 2: Train loss 0.6779 f1 0.5664 | Val loss 0.6750 f1 0.6657\n",
          "output_type": "stream"
        },
        {
          "output_type": "display_data",
          "data": {
            "text/plain": "  0%|          | 0/625 [00:00<?, ?it/s]",
            "application/vnd.jupyter.widget-view+json": {
              "version_major": 2,
              "version_minor": 0,
              "model_id": ""
            }
          },
          "metadata": {}
        },
        {
          "output_type": "display_data",
          "data": {
            "text/plain": "  0%|          | 0/79 [00:00<?, ?it/s]",
            "application/vnd.jupyter.widget-view+json": {
              "version_major": 2,
              "version_minor": 0,
              "model_id": ""
            }
          },
          "metadata": {}
        },
        {
          "name": "stdout",
          "text": "Epoch 3: Train loss 0.6744 f1 0.5740 | Val loss 0.6854 f1 0.2034\n",
          "output_type": "stream"
        },
        {
          "output_type": "display_data",
          "data": {
            "text/plain": "  0%|          | 0/625 [00:00<?, ?it/s]",
            "application/vnd.jupyter.widget-view+json": {
              "version_major": 2,
              "version_minor": 0,
              "model_id": ""
            }
          },
          "metadata": {}
        },
        {
          "output_type": "display_data",
          "data": {
            "text/plain": "  0%|          | 0/79 [00:00<?, ?it/s]",
            "application/vnd.jupyter.widget-view+json": {
              "version_major": 2,
              "version_minor": 0,
              "model_id": ""
            }
          },
          "metadata": {}
        },
        {
          "name": "stdout",
          "text": "Epoch 4: Train loss 0.6115 f1 0.6679 | Val loss 0.6278 f1 0.5888\n",
          "output_type": "stream"
        },
        {
          "output_type": "display_data",
          "data": {
            "text/plain": "  0%|          | 0/625 [00:00<?, ?it/s]",
            "application/vnd.jupyter.widget-view+json": {
              "version_major": 2,
              "version_minor": 0,
              "model_id": ""
            }
          },
          "metadata": {}
        },
        {
          "output_type": "display_data",
          "data": {
            "text/plain": "  0%|          | 0/79 [00:00<?, ?it/s]",
            "application/vnd.jupyter.widget-view+json": {
              "version_major": 2,
              "version_minor": 0,
              "model_id": ""
            }
          },
          "metadata": {}
        },
        {
          "name": "stdout",
          "text": "Epoch 5: Train loss 0.6351 f1 0.6243 | Val loss 0.6489 f1 0.6828\n",
          "output_type": "stream"
        }
      ],
      "execution_count": null
    },
    {
      "cell_type": "code",
      "source": [
        "test_loss, test_f1, test_acc = run_epoch(test_loader, train=False)\n",
        "print(f\"Test F1: {test_f1:.4f} | Test Acc: {test_acc:.4f}\")\n",
        "\n"
      ],
      "metadata": {
        "trusted": true,
        "execution": {
          "iopub.status.busy": "2025-09-06T14:22:00.250358Z",
          "iopub.execute_input": "2025-09-06T14:22:00.251302Z",
          "iopub.status.idle": "2025-09-06T14:22:00.525366Z",
          "shell.execute_reply.started": "2025-09-06T14:22:00.251267Z",
          "shell.execute_reply": "2025-09-06T14:22:00.524831Z"
        },
        "colab": {
          "referenced_widgets": [
            ""
          ]
        },
        "id": "JRN5HUCDrbRg",
        "outputId": "7a6bbce6-4f0c-40a0-df31-aaab1b6074fe"
      },
      "outputs": [
        {
          "output_type": "display_data",
          "data": {
            "text/plain": "  0%|          | 0/79 [00:00<?, ?it/s]",
            "application/vnd.jupyter.widget-view+json": {
              "version_major": 2,
              "version_minor": 0,
              "model_id": ""
            }
          },
          "metadata": {}
        },
        {
          "name": "stdout",
          "text": "Test F1: 0.6958 | Test Acc: 0.6454\n",
          "output_type": "stream"
        }
      ],
      "execution_count": null
    },
    {
      "cell_type": "code",
      "source": [
        "model = LSTMClassifier(\n",
        "    embedding_matrix,\n",
        "    hidden_size=128,\n",
        "    bidirectional=True,\n",
        "    freeze_emb= False\n",
        ").to(device)\n",
        "print(model)\n",
        "\n",
        "criterion = nn.BCEWithLogitsLoss()\n",
        "optimizer = optim.Adam(filter(lambda p: p.requires_grad, model.parameters()), lr=1e-3)\n",
        "EPOCHS = 5\n",
        "\n",
        "def run_epoch(loader, train=True):\n",
        "    if train:\n",
        "        model.train()\n",
        "    else:\n",
        "        model.eval()\n",
        "    losses, preds_all, trues_all = [], [], []\n",
        "    with torch.set_grad_enabled(train):\n",
        "        for x, y in tqdm(loader, leave=False):\n",
        "            x, y = x.to(device), y.to(device)\n",
        "            logits = model(x)\n",
        "            loss = criterion(logits, y)\n",
        "            if train:\n",
        "                optimizer.zero_grad()\n",
        "                loss.backward()\n",
        "                optimizer.step()\n",
        "            losses.append(loss.item())\n",
        "            probs = torch.sigmoid(logits).detach().cpu().numpy()\n",
        "            preds_all += (probs >= 0.5).astype(int).tolist()\n",
        "            trues_all += y.cpu().numpy().astype(int).tolist()\n",
        "    avg_loss = np.mean(losses)\n",
        "    f1 = f1_score(trues_all, preds_all)\n",
        "    acc = accuracy_score(trues_all, preds_all)\n",
        "    return avg_loss, f1, acc\n",
        "\n",
        "for epoch in range(1, EPOCHS+1):\n",
        "    train_loss, train_f1, train_acc = run_epoch(train_loader, train=True)\n",
        "    val_loss, val_f1, val_acc = run_epoch(valid_loader, train=False)\n",
        "    print(f\"Epoch {epoch}: Train loss {train_loss:.4f} f1 {train_f1:.4f} | Val loss {val_loss:.4f} f1 {val_f1:.4f}\")\n",
        "\n"
      ],
      "metadata": {
        "trusted": true,
        "execution": {
          "iopub.status.busy": "2025-09-06T14:22:02.058029Z",
          "iopub.execute_input": "2025-09-06T14:22:02.058356Z",
          "iopub.status.idle": "2025-09-06T14:22:55.254445Z",
          "shell.execute_reply.started": "2025-09-06T14:22:02.058337Z",
          "shell.execute_reply": "2025-09-06T14:22:55.253821Z"
        },
        "colab": {
          "referenced_widgets": [
            ""
          ]
        },
        "id": "TY_9tD-5rbRh",
        "outputId": "50d869e9-8d1c-4110-84bc-8a0d2334809b"
      },
      "outputs": [
        {
          "name": "stdout",
          "text": "LSTMClassifier(\n  (embedding): Embedding(20000, 100, padding_idx=0)\n  (rnn): LSTM(100, 128, batch_first=True, bidirectional=True)\n  (fc): Linear(in_features=256, out_features=1, bias=True)\n)\n",
          "output_type": "stream"
        },
        {
          "output_type": "display_data",
          "data": {
            "text/plain": "  0%|          | 0/625 [00:00<?, ?it/s]",
            "application/vnd.jupyter.widget-view+json": {
              "version_major": 2,
              "version_minor": 0,
              "model_id": ""
            }
          },
          "metadata": {}
        },
        {
          "output_type": "display_data",
          "data": {
            "text/plain": "  0%|          | 0/79 [00:00<?, ?it/s]",
            "application/vnd.jupyter.widget-view+json": {
              "version_major": 2,
              "version_minor": 0,
              "model_id": ""
            }
          },
          "metadata": {}
        },
        {
          "name": "stdout",
          "text": "Epoch 1: Train loss 0.5991 f1 0.6501 | Val loss 0.3621 f1 0.8551\n",
          "output_type": "stream"
        },
        {
          "output_type": "display_data",
          "data": {
            "text/plain": "  0%|          | 0/625 [00:00<?, ?it/s]",
            "application/vnd.jupyter.widget-view+json": {
              "version_major": 2,
              "version_minor": 0,
              "model_id": ""
            }
          },
          "metadata": {}
        },
        {
          "output_type": "display_data",
          "data": {
            "text/plain": "  0%|          | 0/79 [00:00<?, ?it/s]",
            "application/vnd.jupyter.widget-view+json": {
              "version_major": 2,
              "version_minor": 0,
              "model_id": ""
            }
          },
          "metadata": {}
        },
        {
          "name": "stdout",
          "text": "Epoch 2: Train loss 0.2967 f1 0.8795 | Val loss 0.2859 f1 0.8826\n",
          "output_type": "stream"
        },
        {
          "output_type": "display_data",
          "data": {
            "text/plain": "  0%|          | 0/625 [00:00<?, ?it/s]",
            "application/vnd.jupyter.widget-view+json": {
              "version_major": 2,
              "version_minor": 0,
              "model_id": ""
            }
          },
          "metadata": {}
        },
        {
          "output_type": "display_data",
          "data": {
            "text/plain": "  0%|          | 0/79 [00:00<?, ?it/s]",
            "application/vnd.jupyter.widget-view+json": {
              "version_major": 2,
              "version_minor": 0,
              "model_id": ""
            }
          },
          "metadata": {}
        },
        {
          "name": "stdout",
          "text": "Epoch 3: Train loss 0.2091 f1 0.9204 | Val loss 0.2768 f1 0.8849\n",
          "output_type": "stream"
        },
        {
          "output_type": "display_data",
          "data": {
            "text/plain": "  0%|          | 0/625 [00:00<?, ?it/s]",
            "application/vnd.jupyter.widget-view+json": {
              "version_major": 2,
              "version_minor": 0,
              "model_id": ""
            }
          },
          "metadata": {}
        },
        {
          "output_type": "display_data",
          "data": {
            "text/plain": "  0%|          | 0/79 [00:00<?, ?it/s]",
            "application/vnd.jupyter.widget-view+json": {
              "version_major": 2,
              "version_minor": 0,
              "model_id": ""
            }
          },
          "metadata": {}
        },
        {
          "name": "stdout",
          "text": "Epoch 4: Train loss 0.1482 f1 0.9496 | Val loss 0.3097 f1 0.8812\n",
          "output_type": "stream"
        },
        {
          "output_type": "display_data",
          "data": {
            "text/plain": "  0%|          | 0/625 [00:00<?, ?it/s]",
            "application/vnd.jupyter.widget-view+json": {
              "version_major": 2,
              "version_minor": 0,
              "model_id": ""
            }
          },
          "metadata": {}
        },
        {
          "output_type": "display_data",
          "data": {
            "text/plain": "  0%|          | 0/79 [00:00<?, ?it/s]",
            "application/vnd.jupyter.widget-view+json": {
              "version_major": 2,
              "version_minor": 0,
              "model_id": ""
            }
          },
          "metadata": {}
        },
        {
          "name": "stdout",
          "text": "Epoch 5: Train loss 0.0989 f1 0.9690 | Val loss 0.3595 f1 0.8764\n",
          "output_type": "stream"
        }
      ],
      "execution_count": null
    },
    {
      "cell_type": "code",
      "source": [
        "test_loss, test_f1, test_acc = run_epoch(test_loader, train=False)\n",
        "print(f\"Test F1: {test_f1:.4f} | Test Acc: {test_acc:.4f}\")\n",
        "\n"
      ],
      "metadata": {
        "trusted": true,
        "execution": {
          "iopub.status.busy": "2025-09-06T14:22:55.255445Z",
          "iopub.execute_input": "2025-09-06T14:22:55.255701Z",
          "iopub.status.idle": "2025-09-06T14:22:55.852860Z",
          "shell.execute_reply.started": "2025-09-06T14:22:55.255673Z",
          "shell.execute_reply": "2025-09-06T14:22:55.852183Z"
        },
        "colab": {
          "referenced_widgets": [
            ""
          ]
        },
        "id": "GkMnVn35rbRi",
        "outputId": "32de98b4-3435-4fc5-8173-fd764312764c"
      },
      "outputs": [
        {
          "output_type": "display_data",
          "data": {
            "text/plain": "  0%|          | 0/79 [00:00<?, ?it/s]",
            "application/vnd.jupyter.widget-view+json": {
              "version_major": 2,
              "version_minor": 0,
              "model_id": ""
            }
          },
          "metadata": {}
        },
        {
          "name": "stdout",
          "text": "Test F1: 0.8792 | Test Acc: 0.8820\n",
          "output_type": "stream"
        }
      ],
      "execution_count": null
    }
  ]
}